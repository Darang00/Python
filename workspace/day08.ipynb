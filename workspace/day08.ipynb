{
 "cells": [
  {
   "cell_type": "code",
   "execution_count": 4,
   "id": "1d45489e-1cd5-4d8c-8033-1b127782ca70",
   "metadata": {},
   "outputs": [
    {
     "data": {
      "text/html": [
       "<div>\n",
       "<style scoped>\n",
       "    .dataframe tbody tr th:only-of-type {\n",
       "        vertical-align: middle;\n",
       "    }\n",
       "\n",
       "    .dataframe tbody tr th {\n",
       "        vertical-align: top;\n",
       "    }\n",
       "\n",
       "    .dataframe thead th {\n",
       "        text-align: right;\n",
       "    }\n",
       "</style>\n",
       "<table border=\"1\" class=\"dataframe\">\n",
       "  <thead>\n",
       "    <tr style=\"text-align: right;\">\n",
       "      <th></th>\n",
       "      <th>python</th>\n",
       "      <th>java</th>\n",
       "      <th>C 언어</th>\n",
       "    </tr>\n",
       "  </thead>\n",
       "  <tbody>\n",
       "    <tr>\n",
       "      <th>둘리</th>\n",
       "      <td>90</td>\n",
       "      <td>70</td>\n",
       "      <td>80</td>\n",
       "    </tr>\n",
       "    <tr>\n",
       "      <th>마이콜</th>\n",
       "      <td>75</td>\n",
       "      <td>80</td>\n",
       "      <td>65</td>\n",
       "    </tr>\n",
       "  </tbody>\n",
       "</table>\n",
       "</div>"
      ],
      "text/plain": [
       "     python  java  C 언어\n",
       "둘리       90    70    80\n",
       "마이콜      75    80    65"
      ]
     },
     "execution_count": 4,
     "metadata": {},
     "output_type": "execute_result"
    }
   ],
   "source": [
    "import pandas as pd\n",
    "\n",
    "li = [[90, 70, 80], [75, 80, 65]]\n",
    "# print(li, type(li))\n",
    "\n",
    "df = pd.DataFrame(li)\n",
    "\n",
    "# 행 인덱스 설정 : df.index = 인덱스 배열\n",
    "df.index = ['둘리', '또치']\n",
    "\n",
    "# 열 인덱스 설정 : df.columns = 열 이름 배열\n",
    "df.columns = ['python', 'java', 'javaScript']\n",
    "\n",
    "# 행 인덱스 일부 수정\n",
    "# df.rename(index = {기존 인덱스 : 새 인덱스,....})\n",
    "df.rename(index = {\"또치\":\"도우너\"}, inplace = True)\n",
    "# 원본 객체를 변경하기 위해서는 inplace = True 옵션 설정을 해야한다!\n",
    "\n",
    "df = df.rename(index = {\"도우너\" : \"마이콜\"}) #inplace = True 설정이 없으면 재할당 해야함!\n",
    "\n",
    "# 열 인덱스 일부 설정\n",
    "df.rename(columns = {\"javaScript\": \"C 언어\"}, inplace = True)\n",
    "\n",
    "df"
   ]
  },
  {
   "cell_type": "markdown",
   "id": "0f2f6d5d-7f97-41b8-a43d-ab780aadf3a9",
   "metadata": {},
   "source": [
    "## 행/열 추가"
   ]
  },
  {
   "cell_type": "code",
   "execution_count": 7,
   "id": "91d6eb85-1ec9-46a1-8681-df4e2a59f738",
   "metadata": {},
   "outputs": [
    {
     "name": "stdout",
     "output_type": "stream",
     "text": [
      "기존:      python  java  C 언어  DB\n",
      "둘리       90    70    80  85\n",
      "마이콜      75    80    65  90\n"
     ]
    },
    {
     "data": {
      "text/html": [
       "<div>\n",
       "<style scoped>\n",
       "    .dataframe tbody tr th:only-of-type {\n",
       "        vertical-align: middle;\n",
       "    }\n",
       "\n",
       "    .dataframe tbody tr th {\n",
       "        vertical-align: top;\n",
       "    }\n",
       "\n",
       "    .dataframe thead th {\n",
       "        text-align: right;\n",
       "    }\n",
       "</style>\n",
       "<table border=\"1\" class=\"dataframe\">\n",
       "  <thead>\n",
       "    <tr style=\"text-align: right;\">\n",
       "      <th></th>\n",
       "      <th>python</th>\n",
       "      <th>java</th>\n",
       "      <th>C 언어</th>\n",
       "      <th>DB</th>\n",
       "      <th>web</th>\n",
       "      <th>js</th>\n",
       "    </tr>\n",
       "  </thead>\n",
       "  <tbody>\n",
       "    <tr>\n",
       "      <th>둘리</th>\n",
       "      <td>90</td>\n",
       "      <td>70</td>\n",
       "      <td>80</td>\n",
       "      <td>85</td>\n",
       "      <td>75</td>\n",
       "      <td>60</td>\n",
       "    </tr>\n",
       "    <tr>\n",
       "      <th>마이콜</th>\n",
       "      <td>75</td>\n",
       "      <td>80</td>\n",
       "      <td>65</td>\n",
       "      <td>90</td>\n",
       "      <td>80</td>\n",
       "      <td>55</td>\n",
       "    </tr>\n",
       "  </tbody>\n",
       "</table>\n",
       "</div>"
      ],
      "text/plain": [
       "     python  java  C 언어  DB  web  js\n",
       "둘리       90    70    80  85   75  60\n",
       "마이콜      75    80    65  90   80  55"
      ]
     },
     "execution_count": 7,
     "metadata": {},
     "output_type": "execute_result"
    }
   ],
   "source": [
    "import pandas as pd\n",
    "\n",
    "\n",
    "print(\"기존:\", df)\n",
    "\n",
    "# 열 추가\n",
    "# df[\"열 이름\"] = 데이터\n",
    "df[\"DB\"] = [85, 90] #DB 라는 컬럼 추가하고 해당 컬럼의 행에 값을 85, 90 넣어라\n",
    "\n",
    "\n",
    "# 열 여러개 추가\n",
    "df[['web', 'js']] = [[75, 60], [80, 55]]\n",
    "\n",
    "df"
   ]
  },
  {
   "cell_type": "markdown",
   "id": "530e176d-9ccf-4fd8-b9ad-a2de613aab79",
   "metadata": {},
   "source": [
    "## 행 추가"
   ]
  },
  {
   "cell_type": "code",
   "execution_count": 17,
   "id": "b20d56f7-49d3-4bd6-b094-c6799ddd1dda",
   "metadata": {},
   "outputs": [
    {
     "name": "stdout",
     "output_type": "stream",
     "text": [
      "     python  java  C 언어  DB  web  js\n",
      "둘리       90    70    80  85   75  60\n",
      "마이콜      75    80    65  90   80  55\n",
      "또치       85    90    95  70  100  85\n",
      "짱구       50    60    65  70   60  55\n",
      "철수      100    90    90  95   90  80\n",
      "짱구       50    60    65  70   60  55\n",
      "철수      100    90    90  95   90  80\n",
      "new_df: \n",
      "     python  java  C 언어  DB  web  js\n",
      "짱구      50    60    65  70   60  55\n",
      "철수     100    90    90  95   90  80\n",
      "df: \n",
      "      python  java  C 언어  DB  web  js\n",
      "둘리       90    70    80  85   75  60\n",
      "마이콜      75    80    65  90   80  55\n",
      "또치       85    90    95  70  100  85\n",
      "짱구       50    60    65  70   60  55\n",
      "철수      100    90    90  95   90  80\n",
      "짱구       50    60    65  70   60  55\n",
      "철수      100    90    90  95   90  80\n"
     ]
    }
   ],
   "source": [
    "# df.loc[\"행이름\"] = 데이터\n",
    "df.loc['또치'] = [85, 90, 95, 70, 100, 85] # \"또치\"라는 행을 추가하고, 값을 집어넣음\n",
    "# df\n",
    "\n",
    "# 여러 행 추가\n",
    "# df.loc[[\"짱구\", \"철수\"]] = [[20, 30, 40, 50, 90, 50], [55, 66, 75, 12, 25, 58]] : 이 방식 안됨.\n",
    "\n",
    "# 여러 행을 추가하려면 새로운 데이터 프레임을 생성한 후 기존 데이터 프레임에 이어붙여야 한다.\n",
    "new_df = pd.DataFrame({\n",
    "    \"python\":[50, 100],\n",
    "    \"java\":[60, 90],\n",
    "    \"C 언어\":[65, 90],\n",
    "    \"DB\":[70, 95],\n",
    "    \"web\":[60, 90],\n",
    "    \"js\":[55, 80]\n",
    "}, index = [\"짱구\", \"철수\"])\n",
    "\n",
    "print(df)\n",
    "\n",
    "# pd.concat([df1, df2]): 2개의 데이터 프레임 이어 붙임\n",
    "#df = pd.concat([df, new_df])\n",
    "\n",
    "print(\"new_df: \\n\",new_df)\n",
    "\n",
    "print(\"df: \\n\",df)\n",
    "\n"
   ]
  },
  {
   "cell_type": "code",
   "execution_count": 22,
   "id": "50671d7b-a753-42ce-a3be-72c38b2813c7",
   "metadata": {},
   "outputs": [
    {
     "data": {
      "text/html": [
       "<div>\n",
       "<style scoped>\n",
       "    .dataframe tbody tr th:only-of-type {\n",
       "        vertical-align: middle;\n",
       "    }\n",
       "\n",
       "    .dataframe tbody tr th {\n",
       "        vertical-align: top;\n",
       "    }\n",
       "\n",
       "    .dataframe thead th {\n",
       "        text-align: right;\n",
       "    }\n",
       "</style>\n",
       "<table border=\"1\" class=\"dataframe\">\n",
       "  <thead>\n",
       "    <tr style=\"text-align: right;\">\n",
       "      <th></th>\n",
       "      <th>python</th>\n",
       "      <th>java</th>\n",
       "      <th>C 언어</th>\n",
       "      <th>DB</th>\n",
       "      <th>web</th>\n",
       "      <th>js</th>\n",
       "    </tr>\n",
       "  </thead>\n",
       "  <tbody>\n",
       "    <tr>\n",
       "      <th>둘리</th>\n",
       "      <td>90</td>\n",
       "      <td>70</td>\n",
       "      <td>80</td>\n",
       "      <td>85</td>\n",
       "      <td>75</td>\n",
       "      <td>60</td>\n",
       "    </tr>\n",
       "    <tr>\n",
       "      <th>마이콜</th>\n",
       "      <td>75</td>\n",
       "      <td>80</td>\n",
       "      <td>65</td>\n",
       "      <td>90</td>\n",
       "      <td>80</td>\n",
       "      <td>55</td>\n",
       "    </tr>\n",
       "  </tbody>\n",
       "</table>\n",
       "</div>"
      ],
      "text/plain": [
       "     python  java  C 언어  DB  web  js\n",
       "둘리       90    70    80  85   75  60\n",
       "마이콜      75    80    65  90   80  55"
      ]
     },
     "execution_count": 22,
     "metadata": {},
     "output_type": "execute_result"
    }
   ],
   "source": [
    "import pandas as pd\n",
    "\n",
    "# 행삭제\n",
    "df2 = df.copy() # 데이터 프레임 복사\n",
    "\n",
    "df2.drop(\"짱구\", axis=0, inplace = True)\n",
    "df2.drop([\"또치\", \"철수\"], axis=0, inplace = True)\n",
    "\n",
    "df2"
   ]
  },
  {
   "cell_type": "markdown",
   "id": "9dfa1e85-0fc0-4dd0-87cc-ace8327286ea",
   "metadata": {},
   "source": [
    "## 열 삭제"
   ]
  },
  {
   "cell_type": "code",
   "execution_count": 24,
   "id": "1cb856d8-489d-468a-8059-e12aa45620dd",
   "metadata": {},
   "outputs": [
    {
     "data": {
      "text/html": [
       "<div>\n",
       "<style scoped>\n",
       "    .dataframe tbody tr th:only-of-type {\n",
       "        vertical-align: middle;\n",
       "    }\n",
       "\n",
       "    .dataframe tbody tr th {\n",
       "        vertical-align: top;\n",
       "    }\n",
       "\n",
       "    .dataframe thead th {\n",
       "        text-align: right;\n",
       "    }\n",
       "</style>\n",
       "<table border=\"1\" class=\"dataframe\">\n",
       "  <thead>\n",
       "    <tr style=\"text-align: right;\">\n",
       "      <th></th>\n",
       "      <th>python</th>\n",
       "      <th>java</th>\n",
       "      <th>C 언어</th>\n",
       "    </tr>\n",
       "  </thead>\n",
       "  <tbody>\n",
       "    <tr>\n",
       "      <th>둘리</th>\n",
       "      <td>90</td>\n",
       "      <td>70</td>\n",
       "      <td>80</td>\n",
       "    </tr>\n",
       "    <tr>\n",
       "      <th>마이콜</th>\n",
       "      <td>75</td>\n",
       "      <td>80</td>\n",
       "      <td>65</td>\n",
       "    </tr>\n",
       "    <tr>\n",
       "      <th>또치</th>\n",
       "      <td>85</td>\n",
       "      <td>90</td>\n",
       "      <td>95</td>\n",
       "    </tr>\n",
       "    <tr>\n",
       "      <th>짱구</th>\n",
       "      <td>50</td>\n",
       "      <td>60</td>\n",
       "      <td>65</td>\n",
       "    </tr>\n",
       "    <tr>\n",
       "      <th>철수</th>\n",
       "      <td>100</td>\n",
       "      <td>90</td>\n",
       "      <td>90</td>\n",
       "    </tr>\n",
       "    <tr>\n",
       "      <th>짱구</th>\n",
       "      <td>50</td>\n",
       "      <td>60</td>\n",
       "      <td>65</td>\n",
       "    </tr>\n",
       "    <tr>\n",
       "      <th>철수</th>\n",
       "      <td>100</td>\n",
       "      <td>90</td>\n",
       "      <td>90</td>\n",
       "    </tr>\n",
       "  </tbody>\n",
       "</table>\n",
       "</div>"
      ],
      "text/plain": [
       "     python  java  C 언어\n",
       "둘리       90    70    80\n",
       "마이콜      75    80    65\n",
       "또치       85    90    95\n",
       "짱구       50    60    65\n",
       "철수      100    90    90\n",
       "짱구       50    60    65\n",
       "철수      100    90    90"
      ]
     },
     "execution_count": 24,
     "metadata": {},
     "output_type": "execute_result"
    }
   ],
   "source": [
    "# 열 삭제\n",
    "df3 = df.copy()\n",
    "\n",
    "df3.drop(\"js\", axis = 1, inplace = True)\n",
    "df3.drop([\"web\", \"DB\"], axis = 1, inplace = True)\n",
    "\n",
    "# drop은 슬라이싱을 이용한 삭제 할 수 없음.\n",
    "df3"
   ]
  },
  {
   "cell_type": "code",
   "execution_count": null,
   "id": "1c4a2f5a-33c9-494f-b69e-7825e2178f7e",
   "metadata": {},
   "outputs": [],
   "source": []
  },
  {
   "cell_type": "code",
   "execution_count": null,
   "id": "b9943827-9144-4906-889b-c88c48461d8e",
   "metadata": {},
   "outputs": [],
   "source": []
  },
  {
   "cell_type": "code",
   "execution_count": null,
   "id": "8e1af387-dd10-40b3-9282-350a76b0fee8",
   "metadata": {},
   "outputs": [],
   "source": []
  }
 ],
 "metadata": {
  "kernelspec": {
   "display_name": "Python 3 (ipykernel)",
   "language": "python",
   "name": "python3"
  },
  "language_info": {
   "codemirror_mode": {
    "name": "ipython",
    "version": 3
   },
   "file_extension": ".py",
   "mimetype": "text/x-python",
   "name": "python",
   "nbconvert_exporter": "python",
   "pygments_lexer": "ipython3",
   "version": "3.11.7"
  }
 },
 "nbformat": 4,
 "nbformat_minor": 5
}
