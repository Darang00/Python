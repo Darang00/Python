{
 "cells": [
  {
   "cell_type": "code",
   "execution_count": null,
   "metadata": {},
   "outputs": [],
   "source": [
    "#https://www.jobkorea.co.kr/Search/?stext=%EB%8D%B0%EC%9D%B4%ED%84%B0%20%EB%B6%84%EC%84%9D&focusTab=&focusGno=43641436&tabType=recruit&Page_No=10\n",
    "\n",
    "#필요한 모듈\n",
    "import requests \n",
    "from bs4 import BeautifulSoup as bs"
   ]
  },
  {
   "cell_type": "code",
   "execution_count": null,
   "metadata": {},
   "outputs": [],
   "source": [
    "#url 만들기\n",
    "base_url = 'https://www.jobkorea.co.kr/Search/?stext=%EB%8D%B0%EC%9D%B4%ED%84%B0%20%EB%B6%84%EC%84%9D&focusTab=&focusGno=43641436&tabType=recruit&Page_No='\n",
    "\n",
    "page_no=1\n",
    "url = f'{base_url}{page_no}' #문자열(url) 과 숫자형(page_no)를 연결처리\n",
    "\n",
    "url"
   ]
  },
  {
   "cell_type": "code",
   "execution_count": null,
   "metadata": {},
   "outputs": [],
   "source": [
    "resp = requests.get(url)\n",
    "\n",
    "resp\n",
    "\n",
    "bs(resp.content, 'html.parser')"
   ]
  },
  {
   "cell_type": "code",
   "execution_count": null,
   "metadata": {},
   "outputs": [],
   "source": [
    "headers = {\"User-Agent\" : \"Mozilla/5.0 (Windows NT 10.0; Win64; x64) AppleWebKit/537.36 (KHTML, like Gecko) Chrome/121.0.0.0 Safari/537.36\"}\n",
    "\n",
    "resp = requests.get(url, headers = headers)\n",
    "\n",
    "resp.text\n",
    "\n",
    "soup = bs(resp.text, 'html.parser')\n",
    "\n",
    "soup"
   ]
  },
  {
   "cell_type": "code",
   "execution_count": null,
   "metadata": {},
   "outputs": [],
   "source": [
    "# 요구 경력 조회\n",
    "exp_tags = soup.select('span.exp') # '.' 은 클래스\n",
    "\n",
    "exp_list = []\n",
    "\n",
    "for tag in exp_tags:\n",
    "    exp_list.append(tag.text)\n",
    "\n",
    "exp_list\n",
    "\n",
    "\n",
    "# 요구학력 조회\n",
    "edu_tags = soup.select('span.edu')\n",
    "\n",
    "edu_tags\n",
    "\n",
    "edu_list = []\n",
    "\n",
    "for tag in edu_tags:\n",
    "    edu_list.append(tag.text)\n",
    "\n",
    "edu_list"
   ]
  },
  {
   "cell_type": "code",
   "execution_count": null,
   "metadata": {},
   "outputs": [],
   "source": [
    "# 함수화 시키기: 경력 찾는 함수\n",
    "def getExp(soup):\n",
    "    exp_tags = soup.select('span.exp') # '.' 은 클래스\n",
    "\n",
    "    exp_list = []\n",
    "\n",
    "    for tag in exp_tags:\n",
    "        exp_list.append(tag.text)\n",
    "\n",
    "    return exp_list \n",
    "\n",
    "\n",
    "getExp(soup)\n",
    "\n",
    "# 함수화 시키기: 학력 찾는 함수\n",
    "def getEdu(soup):\n",
    "    edu_tags = soup.select('span.edu')\n",
    "\n",
    "    edu_tags\n",
    "\n",
    "    edu_list = []\n",
    "\n",
    "    for tag in edu_tags:\n",
    "        edu_list.append(tag.text)\n",
    "\n",
    "    return edu_list\n",
    "\n",
    "getEdu(soup)"
   ]
  },
  {
   "cell_type": "code",
   "execution_count": 41,
   "metadata": {},
   "outputs": [
    {
     "data": {
      "text/plain": [
       "544"
      ]
     },
     "execution_count": 41,
     "metadata": {},
     "output_type": "execute_result"
    }
   ],
   "source": [
    "import math\n",
    "\n",
    "83/20\n",
    "math.ceil(83/20) #올림 처리해주는 함수 math.ceil()\n",
    "\n",
    "\n",
    "total_string = soup.select('.dev_tot')[0].text #string 10,871\n",
    "\n",
    "#replace(): 특정 문자를 내가 원하는 문자로 변경해준다.\n",
    "total_string = total_string.replace(',', '') #',' 를 빈문자열 '' 로 대체해라\n",
    "\n",
    "total_page = math.ceil(int(total_string) /20) #544 >> 총 544페이지 (20은 한 페이지에 표출되는 데이터의 개수)\n",
    "\n",
    "total_page"
   ]
  },
  {
   "cell_type": "code",
   "execution_count": 46,
   "metadata": {},
   "outputs": [
    {
     "data": {
      "text/plain": [
       "544"
      ]
     },
     "execution_count": 46,
     "metadata": {},
     "output_type": "execute_result"
    }
   ],
   "source": [
    "# 함수화 시키기: 총 페이지 수 찾는 함수\n",
    "def getTotalPage(soup):\n",
    "    total_string = soup.select('.dev_tot')[0].text #string 10,871\n",
    "\n",
    "    #replace(): 특정 문자를 내가 원하는 문자로 변경해준다.\n",
    "    total_string = total_string.replace(',', '') #',' 를 빈문자열 '' 로 대체해라\n",
    "\n",
    "    total_page = math.ceil(int(total_string) /20) #544 >> 총 544페이지 (20은 한 페이지에 표출되는 데이터의 개수)\n",
    "\n",
    "    return total_page\n",
    "\n",
    "getTotalPage(soup)"
   ]
  },
  {
   "cell_type": "code",
   "execution_count": 43,
   "metadata": {},
   "outputs": [],
   "source": [
    "# 필요한 모듈 import\n",
    "import requests as req\n",
    "from bs4 import BeautifulSoup as bs\n",
    "import math\n",
    "\n",
    "# 기타 준비물\n",
    "base_url = 'https://www.jobkorea.co.kr/Search/?stext=%EB%8D%B0%EC%9D%B4%ED%84%B0%20%EB%B6%84%EC%84%9D&focusTab=&focusGno=43641436&tabType=recruit&Page_No='\n",
    "\n",
    "page_no = 1\n",
    "\n",
    "url = f'{base_url}{page_no}'\n",
    "headers = {\"User-Agent\" : \"Mozilla/5.0 (Windows NT 10.0; Win64; x64) AppleWebKit/537.36 (KHTML, like Gecko) Chrome/121.0.0.0 Safari/537.36\"}\n",
    "\n",
    "\n",
    "# 경력 조회 함수\n",
    "def getExp(soup) :\n",
    "    exp_tags = soup.select('span.exp')\n",
    "    exp_list = []\n",
    "\n",
    "    for tag in exp_tags :\n",
    "        exp_list.append(tag.text)\n",
    "\n",
    "    return exp_list\n",
    "\n",
    "# 학력 조회 함수\n",
    "def getEdu(soup) :\n",
    "    edu_tags = soup.select('span.edu')\n",
    "    edu_list = []\n",
    "\n",
    "    for tag in edu_tags :\n",
    "        edu_list.append(tag.text)\n",
    "\n",
    "    return edu_list\n",
    "\n",
    "# 전체 페이지 조회 함수\n",
    "def getTotalPage(soup):\n",
    "    total_string = soup.select('.dev_tot')[0].text\n",
    "    total_string = total_string.replace(',', '')\n",
    "    total_page = math.ceil( int(total_string) / 20 )\n",
    "\n",
    "    return total_page\n",
    "\n"
   ]
  },
  {
   "cell_type": "code",
   "execution_count": 56,
   "metadata": {},
   "outputs": [],
   "source": [
    "# 요청 보내기\n",
    "resp = req.get(url, headers = headers)\n",
    "html = resp.text\n",
    "\n",
    "soup = bs(html, 'html.parser')\n",
    "\n",
    "# 전체 페이지 수 가져오기\n",
    "getTotalPage(soup)\n",
    "\n",
    "# 전체 페이지 데이터를 담을 리스트 생성\n",
    "edu_results = []\n",
    "exp_results = []\n",
    "\n",
    "for page in range(10):\n",
    "    url = f'{base_url}{page_no}'\n",
    "\n",
    "    resp = req.get(url, headers=headers)\n",
    "    html = resp.text\n",
    "\n",
    "    soup = bs(html, 'html.parser')\n",
    "\n",
    "    edu_list = getEdu(soup)\n",
    "    exp_list = getExp(soup)\n",
    "\n",
    "    edu_results += edu_list\n",
    "    exp_results += exp_list\n",
    "\n",
    "    page_no += 1\n",
    "\n"
   ]
  },
  {
   "cell_type": "code",
   "execution_count": 58,
   "metadata": {},
   "outputs": [
    {
     "data": {
      "text/plain": [
       "300"
      ]
     },
     "execution_count": 58,
     "metadata": {},
     "output_type": "execute_result"
    }
   ],
   "source": [
    "#len() : 배열의 길이\n",
    "len(edu_results) \n",
    "len(exp_results)"
   ]
  },
  {
   "cell_type": "code",
   "execution_count": 66,
   "metadata": {},
   "outputs": [
    {
     "data": {
      "text/plain": [
       "pandas.core.series.Series"
      ]
     },
     "execution_count": 66,
     "metadata": {},
     "output_type": "execute_result"
    }
   ],
   "source": [
    "import pandas as pd\n",
    "\n",
    "# 요구학력을 시리즈 객체로 변환\n",
    "s_edu = pd.Series(edu_results)\n",
    "\n",
    "# 요구경력을 시리즈 객체로 변환\n",
    "s_exp = pd.Series(exp_results)\n",
    "\n",
    "# 시리즈 객체가 지원하는 value_counts()를 사용하여 각 항목이 몇 번 등장했는지 구한다 (카테고리별 갯수: .value_counts() )\n",
    "count_edu = s_edu.value_counts() #Name: count, dtype: int64 // \n",
    "count_exp = s_exp.value_counts() #Name: count, dtype: int64\n",
    "\n",
    "# 데이터의 구조 파악하는거 중요(데이터셋의 타입) : 결과는 시리즈 객체이다.\n",
    "type(count_edu) #pandas.core.series.Series\n",
    "type(count_exp) #pandas.core.series.Series"
   ]
  },
  {
   "cell_type": "code",
   "execution_count": 76,
   "metadata": {},
   "outputs": [
    {
     "name": "stdout",
     "output_type": "stream",
     "text": [
      "<class 'pandas.core.frame.DataFrame'>\n"
     ]
    }
   ],
   "source": [
    "# 요구학력 시리즈 객체를 데이터 프레임으로 변경\n",
    "# 시리즈객체.reset_index() : 기존의 인덱스를 하나의 컬럼으로 변경하여 \"데이터프레임\"으로 반환한다.\n",
    "df_edu = count_edu.reset_index()\n",
    "\n",
    "# 변환된 데이터 프레임의 컬럼명을 재정의(수정)한다.\n",
    "df_edu.columns = ['요구 학력', '집계'] \n",
    "df_edu\n",
    "\n",
    "# 요구경력\n",
    "df_exp = count_exp.reset_index()\n",
    "df_exp.columns = ['요구 경력', '집계']\n",
    "df_exp\n",
    "\n",
    "# df 객체를 csv로 저장한다.\n",
    "df_exp.to_csv('exp.csv', index=False)\n",
    "df_edu.to_csv('edu.csv', index=False)"
   ]
  },
  {
   "cell_type": "code",
   "execution_count": 83,
   "metadata": {},
   "outputs": [],
   "source": [
    "# 시각화!\n",
    "import matplotlib.pyplot as plt\n",
    "\n",
    "df_edu = pd.read_csv('edu.csv') #한번에 csv 읽어오는 방법\n",
    "df_edu\n",
    "\n",
    "df_exp = pd.read_csv('exp.csv')\n",
    "df_exp\n",
    "\n",
    "# 정렬하기: 데이터프레임.sort_values(by='정렬기준이 될 컬럼명')\n",
    "# ignore_index=True: 기존 인덱스를 무시하고 새로운 인덱스 부여\n",
    "# inplace=True\n",
    "df_exp.sort_values(by='요구 경력', ignore_index=True, inplace=True)\n",
    "\n",
    "df_edu = pd.read_csv('edu.csv')\n",
    "df_edu.sort_values(by='요구 학력', ignore_index=True, inplace=True)"
   ]
  },
  {
   "cell_type": "code",
   "execution_count": 88,
   "metadata": {},
   "outputs": [
    {
     "data": {
      "image/png": "[encoded data removed]",
      "text/plain": [
       "<Figure size 640x480 with 1 Axes>"
      ]
     },
     "metadata": {},
     "output_type": "display_data"
    }
   ],
   "source": [
    "# matplotlib 은 기본적으로 한글을 못 읽는다(에러남) >> 한글 폰트를 직접 적용해야됨\n",
    "\n",
    "# 한글 폰트 적용하기\n",
    "from matplotlib import font_manager, rc\n",
    "font_path = 'C:/Windows/Fonts/malgun.ttf'\n",
    "font_name = font_manager.FontProperties(fname=font_path).get_name()\n",
    "plt.rc('font', family = font_name) \n",
    "\n",
    "df_exp.plot(kind='bar', x='요구 경력', y='집계')\n",
    "\n",
    "plt.xticks(rotation=0)\n",
    "\n",
    "plt.show()"
   ]
  },
  {
   "cell_type": "code",
   "execution_count": 95,
   "metadata": {},
   "outputs": [
    {
     "data": {
      "image/png": "[encoded data removed]",
      "text/plain": [
       "<Figure size 3000x700 with 2 Axes>"
      ]
     },
     "metadata": {},
     "output_type": "display_data"
    }
   ],
   "source": [
    "figure = plt.figure(figsize=(30, 7))\n",
    "ax1 = figure.add_subplot(1, 2, 1)\n",
    "ax2 = figure.add_subplot(1, 2, 2)\n",
    "\n",
    "\n",
    "df_exp.plot(kind='bar', x='요구 경력', y='집계', ax=ax1)\n",
    "df_edu.plot(kind='bar', x='요구 학력', y='집계', ax=ax2)\n",
    "\n",
    "ax1.tick_params(axis='x', rotation=0)\n",
    "ax2.tick_params(axis='x', rotation=0)\n",
    "\n",
    "plt.savefig('my_graph.png')\n",
    "\n",
    "plt.show()"
   ]
  }
 ],
 "metadata": {
  "kernelspec": {
   "display_name": "Python 3",
   "language": "python",
   "name": "python3"
  },
  "language_info": {
   "codemirror_mode": {
    "name": "ipython",
    "version": 3
   },
   "file_extension": ".py",
   "mimetype": "text/x-python",
   "name": "python",
   "nbconvert_exporter": "python",
   "pygments_lexer": "ipython3",
   "version": "3.12.0"
  }
 },
 "nbformat": 4,
 "nbformat_minor": 2
}
