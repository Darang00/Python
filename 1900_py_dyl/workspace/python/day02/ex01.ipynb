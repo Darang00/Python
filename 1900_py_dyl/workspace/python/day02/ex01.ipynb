{
 "cells": [
  {
   "cell_type": "code",
   "execution_count": 1,
   "metadata": {},
   "outputs": [],
   "source": [
    "# 멜론 차트  https://www.melon.com/chart/\n",
    "import requests as req"
   ]
  },
  {
   "cell_type": "code",
   "execution_count": 10,
   "metadata": {},
   "outputs": [
    {
     "name": "stdout",
     "output_type": "stream",
     "text": [
      "\n"
     ]
    }
   ],
   "source": [
    "url = 'https://www.melon.com/chart/'\n",
    "\n",
    "resp = req.get(url)\n",
    "resp.status_code # 406 상태코드가 나왔다\n",
    "#406(허용되지 않음): 요청한 페이지가 요청한 콘텐츠 특성으로 응답할 수 없다 -> 클라이언트의 잘못이다.\n",
    "\n",
    "from bs4 import BeautifulSoup as bs\n",
    "soup = bs(resp.text, 'html.parser')\n",
    "\n",
    "print(soup) #결과값 없음 (크롤링 할 수 없음.. 멜론에서 허용하지 않았다)\n"
   ]
  },
  {
   "cell_type": "code",
   "execution_count": 40,
   "metadata": {},
   "outputs": [
    {
     "name": "stdout",
     "output_type": "stream",
     "text": [
      "[['1위', '아이유', 'Love wins all'], ['2위', '태연 (TAEYEON)', 'To. X'], ['3위', '임재현', '비의 랩소디'], ['4위', 'RIIZE', 'Love 119'], ['5위', '이무진', '에피소드'], ['6위', 'LE SSERAFIM (르세라핌)', 'Perfect Night'], ['7위', 'aespa', 'Drama'], ['8위', '너드커넥션 (Nerd Connection)', '그대만 있다면 (여름날 우리 X 너드커넥션 (Nerd Connection))'], ['9위', '박재정', '헤어지자 말해요'], ['10위', 'TWS (투어스)', '첫 만남은 계획대로 되지 않아'], ['11위', '(여자)아이들', 'Wife'], ['12위', '범진', '인사'], ['13위', '정국', 'Seven (feat. Latto) - Clean Ver.'], ['14위', '임영웅', '사랑은 늘 도망가'], ['15위', '(여자)아이들', 'Super Lady'], ['16위', 'IVE (아이브)', 'I AM'], ['17위', 'RIIZE', 'Get A Guitar'], ['18위', 'IVE (아이브)', 'Baddie'], ['19위', 'VIVIZ (비비지)', 'MANIAC'], ['20위', 'AKMU (악뮤)', 'Love Lee'], ['21위', '태연 (TAEYEON)', '꿈'], ['22위', '성시경', '너의 모든 순간'], ['23위', '제니 (JENNIE)', 'You & Me'], ['24위', '임영웅', '모래 알갱이'], ['25위', '임영웅', '우리들의 블루스'], ['26위', '우디 (Woody)', '사막에서 꽃을 피우듯'], ['27위', 'NewJeans', 'Super Shy'], ['28위', '로이킴', '잘 지내자, 우리 (여름날 우리 X 로이킴)'], ['29위', 'AKMU (악뮤)', '후라이의 꿈'], ['30위', '임영웅', 'Do or Die'], ['31위', '(여자)아이들', '퀸카 (Queencard)'], ['32위', 'NewJeans', 'Hype Boy'], ['33위', '임영웅', '다시 만날 수 있을까'], ['34위', 'NewJeans', 'Ditto'], ['35위', '정국', 'Standing Next to You'], ['36위', 'EXO', '첫 눈'], ['37위', 'DAY6 (데이식스)', '예뻤어'], ['38위', 'NewJeans', 'ETA'], ['39위', '임영웅', '이제 나만 믿어요'], ['40위', '멜로망스', '사랑인가 봐'], ['41위', '윤하 (YOUNHA)', '사건의 지평선'], ['42위', '임영웅', '무지개'], ['43위', 'AKMU (악뮤)', '어떻게 이별까지 사랑하겠어, 널 사랑하는 거지'], ['44위', '임영웅', 'London Boy'], ['45위', '볼빨간사춘기', '사랑할 수밖에'], ['46위', '임영웅', '아버지'], ['47위', 'aespa', 'Spicy'], ['48위', '임한별', '사랑하지 않아서 그랬어'], ['49위', '임영웅', 'Polaroid'], ['50위', '순순희(기태)', '그대가 내 안에 박혔다(그내박)']]\n"
     ]
    }
   ],
   "source": [
    "url = 'https://www.melon.com/chart/'\n",
    "\n",
    "headersDic = {\"User-Agent\" : \"Mozilla/5.0 (Windows NT 10.0; Win64; x64) AppleWebKit/537.36 (KHTML, like Gecko) Chrome/121.0.0.0 Safari/537.36\"}\n",
    "\n",
    "resp = req.get(url, headers=headersDic)\n",
    "resp.status_code\n",
    "\n",
    "soup = bs(resp.text, 'html.parser')\n",
    "soup\n",
    "\n",
    "# 태그이름.클래스이름: 특정 태그에 특정 클래스를 가진 태그만 뽑는다.\n",
    "soup.select('span.rank') #list로 뽑힘\n",
    "soup.select('span.rank')[1].text\n",
    "\n",
    "# 1위~50위까지 추출해보자\n",
    "song = soup.select('tr.lst50') #list로 뽑힘\n",
    "song[0].select('.rank') #list로 뽑힘\n",
    "\n",
    "list = []\n",
    "for s in song:\n",
    "    ranks = s.select('.rank')[0].text + '위' #순위\n",
    "    #print(ranks)\n",
    "    singer = s.select('a')[3].text #가수\n",
    "    #print(singer)\n",
    "    title = s.select('a')[2].text #제목\n",
    "    #print(title)\n",
    "    list.append([ranks, singer, title])\n",
    "\n",
    "print(list)"
   ]
  },
  {
   "cell_type": "code",
   "execution_count": 47,
   "metadata": {},
   "outputs": [],
   "source": [
    "# pandas 활용\n",
    "import pandas as pd\n",
    "\n",
    "# 데이터 프레임으로 변환\n",
    "chart_df = pd.DataFrame(list, columns=['순위', '가수', '제목'])\n",
    "\n",
    "# 특정 열을 데이터 프레임의 새로운 인덱스로 설정한다.\n",
    "# inplace=True 옵션을 사용하면 원본 데이터프레임을 직접 수정한다.\n",
    "chart_df.set_index('순위', inplace = True)\n",
    "\n",
    "chart_df\n",
    "\n",
    "chart_df.to_csv('Melon_chart_20240207.csv') #이거 실행하면 자동으로 csv파일 생김!!\n"
   ]
  },
  {
   "cell_type": "code",
   "execution_count": 50,
   "metadata": {},
   "outputs": [
    {
     "ename": "NameError",
     "evalue": "name 'oepn' is not defined",
     "output_type": "error",
     "traceback": [
      "\u001b[1;31m---------------------------------------------------------------------------\u001b[0m",
      "\u001b[1;31mNameError\u001b[0m                                 Traceback (most recent call last)",
      "Cell \u001b[1;32mIn[50], line 3\u001b[0m\n\u001b[0;32m      1\u001b[0m \u001b[38;5;28;01mimport\u001b[39;00m \u001b[38;5;21;01mcsv\u001b[39;00m\n\u001b[1;32m----> 3\u001b[0m flie \u001b[38;5;241m=\u001b[39m\u001b[43moepn\u001b[49m(\u001b[38;5;124m'\u001b[39m\u001b[38;5;124mMelon_chart_20240207.csv\u001b[39m\u001b[38;5;124m'\u001b[39m, mode\u001b[38;5;241m=\u001b[39m\u001b[38;5;124m'\u001b[39m\u001b[38;5;124mr\u001b[39m\u001b[38;5;124m'\u001b[39m, encoding\u001b[38;5;241m=\u001b[39m\u001b[38;5;124m'\u001b[39m\u001b[38;5;124mUTF-8\u001b[39m\u001b[38;5;124m'\u001b[39m)\n\u001b[0;32m      4\u001b[0m result \u001b[38;5;241m=\u001b[39m flie\u001b[38;5;241m.\u001b[39mreader(f)\n\u001b[0;32m      6\u001b[0m \u001b[38;5;28;01mfor\u001b[39;00m line \u001b[38;5;129;01min\u001b[39;00m reasult:\n",
      "\u001b[1;31mNameError\u001b[0m: name 'oepn' is not defined"
     ]
    }
   ],
   "source": [
    "import csv\n",
    "\n",
    "flie =open('Melon_chart_20240207.csv', mode='r', encoding='UTF-8')\n",
    "result = flie.reader(f)\n",
    "\n",
    "for line in reasult:\n",
    "    print(line)\n",
    "\n",
    "file.close()"
   ]
  }
 ],
 "metadata": {
  "kernelspec": {
   "display_name": "Python 3",
   "language": "python",
   "name": "python3"
  },
  "language_info": {
   "codemirror_mode": {
    "name": "ipython",
    "version": 3
   },
   "file_extension": ".py",
   "mimetype": "text/x-python",
   "name": "python",
   "nbconvert_exporter": "python",
   "pygments_lexer": "ipython3",
   "version": "3.12.0"
  }
 },
 "nbformat": 4,
 "nbformat_minor": 2
}
