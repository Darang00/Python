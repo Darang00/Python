{
 "cells": [
  {
   "cell_type": "code",
   "execution_count": 10,
   "metadata": {},
   "outputs": [
    {
     "name": "stdout",
     "output_type": "stream",
     "text": [
      "{'name': 'basic shirt', 'colour': 'grey', 'size': 'M', 'price': 10000, 'brand': 'python'}\n"
     ]
    },
    {
     "data": {
      "text/plain": [
       "\"\\nwith ~ as 문법으로 해결\\nf = open('data01.json', 'r')\\njson_data = json.load(f)\\nf.close()\\n\""
      ]
     },
     "execution_count": 10,
     "metadata": {},
     "output_type": "execute_result"
    }
   ],
   "source": [
    "import pandas as pd\n",
    "import json     #JSON 파일을 다루는 모듈\n",
    "\n",
    "# JSON 파일 읽어오기\n",
    "# f.close()를 신경안써도 된다.\n",
    "# with 문 안의 들여쓰기 부분을 빠져나가는 순간 자동으로 f.close() 실행됨\n",
    "# load() 를 사용하면 JSON을 dict 타입으로 반환\n",
    "with open('data01.json', encoding='utf-8') as f:\n",
    "    json_data = json.load(f)\n",
    "'''\n",
    "with ~ as 문법으로 해결\n",
    "f = open('data01.json', 'r')\n",
    "json_data = json.load(f)\n",
    "f.close()\n",
    "'''\n",
    "\n",
    "print(json_data) #{'name': 'basic shirt', 'colour': 'grey', 'size': 'M', 'price': 10000, 'brand': 'python'}\n",
    "type(json_data)\n",
    "pd.json_normalize(json_data)\n",
    "\n"
   ]
  },
  {
   "cell_type": "code",
   "execution_count": 14,
   "metadata": {},
   "outputs": [
    {
     "data": {
      "text/html": [
       "<div>\n",
       "<style scoped>\n",
       "    .dataframe tbody tr th:only-of-type {\n",
       "        vertical-align: middle;\n",
       "    }\n",
       "\n",
       "    .dataframe tbody tr th {\n",
       "        vertical-align: top;\n",
       "    }\n",
       "\n",
       "    .dataframe thead th {\n",
       "        text-align: right;\n",
       "    }\n",
       "</style>\n",
       "<table border=\"1\" class=\"dataframe\">\n",
       "  <thead>\n",
       "    <tr style=\"text-align: right;\">\n",
       "      <th></th>\n",
       "      <th>name</th>\n",
       "      <th>color</th>\n",
       "      <th>size</th>\n",
       "      <th>price</th>\n",
       "      <th>brand</th>\n",
       "    </tr>\n",
       "  </thead>\n",
       "  <tbody>\n",
       "    <tr>\n",
       "      <th>0</th>\n",
       "      <td>기본 티셔츠</td>\n",
       "      <td>회색</td>\n",
       "      <td>M</td>\n",
       "      <td>10000</td>\n",
       "      <td>python</td>\n",
       "    </tr>\n",
       "    <tr>\n",
       "      <th>1</th>\n",
       "      <td>니트</td>\n",
       "      <td>검정색</td>\n",
       "      <td>L</td>\n",
       "      <td>22000</td>\n",
       "      <td>python</td>\n",
       "    </tr>\n",
       "    <tr>\n",
       "      <th>2</th>\n",
       "      <td>패딩</td>\n",
       "      <td>흰색</td>\n",
       "      <td>S</td>\n",
       "      <td>300000</td>\n",
       "      <td>python</td>\n",
       "    </tr>\n",
       "  </tbody>\n",
       "</table>\n",
       "</div>"
      ],
      "text/plain": [
       "     name color size   price   brand\n",
       "0  기본 티셔츠    회색    M   10000  python\n",
       "1      니트   검정색    L   22000  python\n",
       "2      패딩    흰색    S  300000  python"
      ]
     },
     "execution_count": 14,
     "metadata": {},
     "output_type": "execute_result"
    }
   ],
   "source": [
    "with open('data02.json', encoding='utf-8') as f:\n",
    "    json_list = json.load(f)\n",
    "\n",
    "\n",
    "json_list\n",
    "\n",
    "#json 배열 > 파이썬은 list로 본다.\n",
    "#json 객체 > 파이썬은 dictionary로 본다.\n",
    "type(json_list) #list\n",
    "type(json_list[0]) #dict\n",
    "\n",
    "#pd.json_normalize : json을 DataFrame으로 변환\n",
    "df_data = pd.json_normalize(json_list) \n",
    "df_data"
   ]
  },
  {
   "cell_type": "code",
   "execution_count": 19,
   "metadata": {},
   "outputs": [
    {
     "data": {
      "text/plain": [
       "'iPhone'"
      ]
     },
     "execution_count": 19,
     "metadata": {},
     "output_type": "execute_result"
    }
   ],
   "source": [
    "# 파이썬의 딕셔너리는 값으로 리스트나 다른 딕셔너리를 가질 수 있다.\n",
    "dict_product01 = {\"name\": \"iPhone\"}\n",
    "dict_product02 = {\"name\": \"Galaxy\"}\n",
    "#dict_product00 = {\"key\": value}\n",
    "\n",
    "dict_data={\n",
    "    \"products\": [dict_product01, dict_product02],\n",
    "    \"sale\": {\"의류\": 10}\n",
    "}\n",
    "\n",
    "dict_data.get(\"products\") #[{'name': 'iPhone'}, {'name': 'Galaxy'}] : list\n",
    "dict_data.get(\"products\")[0] # {'name': 'iPhone'}: dict\n",
    "dict_data.get(\"products\")[0].get('name') #iPhone"
   ]
  },
  {
   "cell_type": "code",
   "execution_count": 29,
   "metadata": {},
   "outputs": [
    {
     "name": "stdout",
     "output_type": "stream",
     "text": [
      "{'name': '김철수', 'board': {'title': 'hi', 'content': '반가워요~', 'writer': '박웅이'}, 'fruits': ['banana', 'apple', 'cherry'], 'products': [{'name': '아이폰'}, {'name': '갤럭시'}]}\n"
     ]
    },
    {
     "data": {
      "text/html": [
       "<div>\n",
       "<style scoped>\n",
       "    .dataframe tbody tr th:only-of-type {\n",
       "        vertical-align: middle;\n",
       "    }\n",
       "\n",
       "    .dataframe tbody tr th {\n",
       "        vertical-align: top;\n",
       "    }\n",
       "\n",
       "    .dataframe thead th {\n",
       "        text-align: right;\n",
       "    }\n",
       "</style>\n",
       "<table border=\"1\" class=\"dataframe\">\n",
       "  <thead>\n",
       "    <tr style=\"text-align: right;\">\n",
       "      <th></th>\n",
       "      <th>name</th>\n",
       "    </tr>\n",
       "  </thead>\n",
       "  <tbody>\n",
       "    <tr>\n",
       "      <th>0</th>\n",
       "      <td>아이폰</td>\n",
       "    </tr>\n",
       "    <tr>\n",
       "      <th>1</th>\n",
       "      <td>갤럭시</td>\n",
       "    </tr>\n",
       "  </tbody>\n",
       "</table>\n",
       "</div>"
      ],
      "text/plain": [
       "  name\n",
       "0  아이폰\n",
       "1  갤럭시"
      ]
     },
     "execution_count": 29,
     "metadata": {},
     "output_type": "execute_result"
    }
   ],
   "source": [
    "with open('data03.json', encoding='utf-8') as f:\n",
    "    json_data = json.load(f)\n",
    "\n",
    "\n",
    "json_data\n",
    "\n",
    "pd.json_normalize(json_data)\n",
    "\n",
    "print(json_data)\n",
    "\n",
    "json_data['board'] #{'title': 'hi', 'content': '반가워요~', 'writer': '박웅이'}\n",
    "\n",
    "pd.json_normalize(json_data['board'])\n",
    "pd.json_normalize(json_data['products'])"
   ]
  },
  {
   "cell_type": "code",
   "execution_count": 35,
   "metadata": {},
   "outputs": [
    {
     "data": {
      "text/html": [
       "<div>\n",
       "<style scoped>\n",
       "    .dataframe tbody tr th:only-of-type {\n",
       "        vertical-align: middle;\n",
       "    }\n",
       "\n",
       "    .dataframe tbody tr th {\n",
       "        vertical-align: top;\n",
       "    }\n",
       "\n",
       "    .dataframe thead th {\n",
       "        text-align: right;\n",
       "    }\n",
       "</style>\n",
       "<table border=\"1\" class=\"dataframe\">\n",
       "  <thead>\n",
       "    <tr style=\"text-align: right;\">\n",
       "      <th></th>\n",
       "      <th>id</th>\n",
       "      <th>name</th>\n",
       "      <th>age</th>\n",
       "      <th>address</th>\n",
       "      <th>gender</th>\n",
       "    </tr>\n",
       "  </thead>\n",
       "  <tbody>\n",
       "    <tr>\n",
       "      <th>0</th>\n",
       "      <td>abc123</td>\n",
       "      <td>김철수</td>\n",
       "      <td>22</td>\n",
       "      <td>강남구 역삼동</td>\n",
       "      <td>M</td>\n",
       "    </tr>\n",
       "  </tbody>\n",
       "</table>\n",
       "</div>"
      ],
      "text/plain": [
       "       id name  age  address gender\n",
       "0  abc123  김철수   22  강남구 역삼동      M"
      ]
     },
     "execution_count": 35,
     "metadata": {},
     "output_type": "execute_result"
    }
   ],
   "source": [
    "import requests as req\n",
    "\n",
    "resp = req.get('https://my-json-server.typicode.com/refactoringK/data01/user')\n",
    "\n",
    "resp.status_code\n",
    "\n",
    "resp.text\n",
    "\n",
    "json_user = resp.json()\n",
    "\n",
    "type(json_user) #dict\n",
    "\n",
    "\n",
    "df_user = pd.json_normalize(json_user)\n",
    "\n",
    "df_user\n",
    "\n",
    "\n",
    "\n"
   ]
  },
  {
   "cell_type": "code",
   "execution_count": 40,
   "metadata": {},
   "outputs": [
    {
     "data": {
      "text/html": [
       "<div>\n",
       "<style scoped>\n",
       "    .dataframe tbody tr th:only-of-type {\n",
       "        vertical-align: middle;\n",
       "    }\n",
       "\n",
       "    .dataframe tbody tr th {\n",
       "        vertical-align: top;\n",
       "    }\n",
       "\n",
       "    .dataframe thead th {\n",
       "        text-align: right;\n",
       "    }\n",
       "</style>\n",
       "<table border=\"1\" class=\"dataframe\">\n",
       "  <thead>\n",
       "    <tr style=\"text-align: right;\">\n",
       "      <th></th>\n",
       "      <th>id</th>\n",
       "      <th>email</th>\n",
       "      <th>name</th>\n",
       "      <th>age</th>\n",
       "      <th>address</th>\n",
       "      <th>gender</th>\n",
       "    </tr>\n",
       "  </thead>\n",
       "  <tbody>\n",
       "    <tr>\n",
       "      <th>0</th>\n",
       "      <td>aaa</td>\n",
       "      <td>aaa@naver.com</td>\n",
       "      <td>김철수</td>\n",
       "      <td>22</td>\n",
       "      <td>강남구 역삼동</td>\n",
       "      <td>M</td>\n",
       "    </tr>\n",
       "    <tr>\n",
       "      <th>1</th>\n",
       "      <td>bbb</td>\n",
       "      <td>bbb@naver.com</td>\n",
       "      <td>김영희</td>\n",
       "      <td>24</td>\n",
       "      <td>성북구 보문동</td>\n",
       "      <td>F</td>\n",
       "    </tr>\n",
       "    <tr>\n",
       "      <th>2</th>\n",
       "      <td>ccc</td>\n",
       "      <td>ccc@naver.com</td>\n",
       "      <td>박웅이</td>\n",
       "      <td>11</td>\n",
       "      <td>성북구 삼선동</td>\n",
       "      <td>M</td>\n",
       "    </tr>\n",
       "    <tr>\n",
       "      <th>3</th>\n",
       "      <td>ddd</td>\n",
       "      <td>ddd@naver.com</td>\n",
       "      <td>이유리</td>\n",
       "      <td>20</td>\n",
       "      <td>강남구 논현동</td>\n",
       "      <td>F</td>\n",
       "    </tr>\n",
       "  </tbody>\n",
       "</table>\n",
       "</div>"
      ],
      "text/plain": [
       "    id          email name  age  address gender\n",
       "0  aaa  aaa@naver.com  김철수   22  강남구 역삼동      M\n",
       "1  bbb  bbb@naver.com  김영희   24  성북구 보문동      F\n",
       "2  ccc  ccc@naver.com  박웅이   11  성북구 삼선동      M\n",
       "3  ddd  ddd@naver.com  이유리   20  강남구 논현동      F"
      ]
     },
     "execution_count": 40,
     "metadata": {},
     "output_type": "execute_result"
    }
   ],
   "source": [
    "resp = req.get('https://my-json-server.typicode.com/refactoringK/data01/users')\n",
    "resp.json()\n",
    "\n",
    "df_users = pd.json_normalize(resp.json())\n",
    "df_users"
   ]
  },
  {
   "cell_type": "code",
   "execution_count": 48,
   "metadata": {},
   "outputs": [
    {
     "name": "stdout",
     "output_type": "stream",
     "text": [
      "0    1.0\n",
      "1    2.0\n",
      "2    3.0\n",
      "3    4.0\n",
      "4    5.0\n",
      "5    6.0\n",
      "6    7.0\n",
      "7    8.0\n",
      "Name: number, dtype: float64\n"
     ]
    },
    {
     "data": {
      "text/html": [
       "<div>\n",
       "<style scoped>\n",
       "    .dataframe tbody tr th:only-of-type {\n",
       "        vertical-align: middle;\n",
       "    }\n",
       "\n",
       "    .dataframe tbody tr th {\n",
       "        vertical-align: top;\n",
       "    }\n",
       "\n",
       "    .dataframe thead th {\n",
       "        text-align: right;\n",
       "    }\n",
       "</style>\n",
       "<table border=\"1\" class=\"dataframe\">\n",
       "  <thead>\n",
       "    <tr style=\"text-align: right;\">\n",
       "      <th></th>\n",
       "      <th>number</th>\n",
       "      <th>content</th>\n",
       "      <th>author</th>\n",
       "    </tr>\n",
       "  </thead>\n",
       "  <tbody>\n",
       "    <tr>\n",
       "      <th>0</th>\n",
       "      <td>1</td>\n",
       "      <td>네 안녕하세요~</td>\n",
       "      <td>bbb</td>\n",
       "    </tr>\n",
       "    <tr>\n",
       "      <th>1</th>\n",
       "      <td>2</td>\n",
       "      <td>matplotlib 사용하면 쉬워요</td>\n",
       "      <td>ccc</td>\n",
       "    </tr>\n",
       "    <tr>\n",
       "      <th>2</th>\n",
       "      <td>3</td>\n",
       "      <td>저도 matplotlib 사용합니다!</td>\n",
       "      <td>ddd</td>\n",
       "    </tr>\n",
       "    <tr>\n",
       "      <th>3</th>\n",
       "      <td>4</td>\n",
       "      <td>오류 내용이랑 코드 올려주세요</td>\n",
       "      <td>bbb</td>\n",
       "    </tr>\n",
       "    <tr>\n",
       "      <th>4</th>\n",
       "      <td>5</td>\n",
       "      <td>네 잠시만요</td>\n",
       "      <td>aaa</td>\n",
       "    </tr>\n",
       "    <tr>\n",
       "      <th>5</th>\n",
       "      <td>6</td>\n",
       "      <td>XXX 추천합니다.</td>\n",
       "      <td>aaa</td>\n",
       "    </tr>\n",
       "    <tr>\n",
       "      <th>6</th>\n",
       "      <td>7</td>\n",
       "      <td>XXX 추천합니다.</td>\n",
       "      <td>ccc</td>\n",
       "    </tr>\n",
       "    <tr>\n",
       "      <th>7</th>\n",
       "      <td>8</td>\n",
       "      <td>XXX 추천합니다.</td>\n",
       "      <td>ddd</td>\n",
       "    </tr>\n",
       "  </tbody>\n",
       "</table>\n",
       "</div>"
      ],
      "text/plain": [
       "   number               content author\n",
       "0       1              네 안녕하세요~    bbb\n",
       "1       2   matplotlib 사용하면 쉬워요    ccc\n",
       "2       3  저도 matplotlib 사용합니다!    ddd\n",
       "3       4      오류 내용이랑 코드 올려주세요    bbb\n",
       "4       5                네 잠시만요    aaa\n",
       "5       6            XXX 추천합니다.    aaa\n",
       "6       7            XXX 추천합니다.    ccc\n",
       "7       8            XXX 추천합니다.    ddd"
      ]
     },
     "execution_count": 48,
     "metadata": {},
     "output_type": "execute_result"
    }
   ],
   "source": [
    "resp = req.get('https://my-json-server.typicode.com/refactoringK/data02/boards')\n",
    "\n",
    "resp.json()\n",
    "\n",
    "df_boards = pd.json_normalize(resp.json())\n",
    "\n",
    "comments_list = []\n",
    "\n",
    "for json_obj in resp.json(): # resp.json() 에서 객체가 하나씩 뽑혀서 json_obj에 담긴다\n",
    "    comments_list += json_obj['comments']\n",
    "\n",
    "df_comments = pd.json_normalize(comments_list)\n",
    "#df_comments\n",
    "\n",
    "# json 배열 안에 {} 이런 빈 객체 들어있으면 NaN 을 담은 행이 그대로 나온다\n",
    "# 빈 객체 {} 행을 제거해보자\n",
    "df_comments.dropna(inplace=True)\n",
    "df_comments\n",
    "\n",
    "\n",
    "# 컬럼 타입 변경\n",
    "print(df_comments.number) # Name: number, dtype: float64\n",
    "df_comments.number = df_comments.number.astype(int) #number 타입을 int로 변경함\n",
    "df_comments\n"
   ]
  }
 ],
 "metadata": {
  "kernelspec": {
   "display_name": "Python 3",
   "language": "python",
   "name": "python3"
  },
  "language_info": {
   "codemirror_mode": {
    "name": "ipython",
    "version": 3
   },
   "file_extension": ".py",
   "mimetype": "text/x-python",
   "name": "python",
   "nbconvert_exporter": "python",
   "pygments_lexer": "ipython3",
   "version": "3.12.0"
  }
 },
 "nbformat": 4,
 "nbformat_minor": 2
}
