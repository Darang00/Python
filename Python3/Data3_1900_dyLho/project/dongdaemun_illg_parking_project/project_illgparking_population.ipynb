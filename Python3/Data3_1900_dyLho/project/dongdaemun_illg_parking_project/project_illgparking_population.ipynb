{
 "cells": [
  {
   "cell_type": "markdown",
   "metadata": {},
   "source": [
    "## 동대문구 행정동별 인구수와 불법 주정차 단속현황 수의 상관관계 알아보기"
   ]
  },
  {
   "cell_type": "code",
   "execution_count": 6,
   "metadata": {},
   "outputs": [
    {
     "name": "stdout",
     "output_type": "stream",
     "text": [
      "Index(['동대문구', 'Unnamed: 1', '계'], dtype='object')\n"
     ]
    }
   ],
   "source": [
    "import pandas as pd\n",
    "\n",
    "# 엑셀 파일 경로\n",
    "excel_file_path = 'C:/Users/Administrator/Desktop/dayeong/동대문구_행정동별_인구수.xlsx'\n",
    "\n",
    "# 엑셀 파일 읽기\n",
    "df = pd.read_excel(excel_file_path)\n",
    "\n",
    "# 컬럼 이름 출력\n",
    "print(df.columns)"
   ]
  },
  {
   "cell_type": "code",
   "execution_count": 9,
   "metadata": {},
   "outputs": [
    {
     "name": "stdout",
     "output_type": "stream",
     "text": [
      "Index(['동대문구', 'Unnamed: 1', '계'], dtype='object')\n",
      "CSV 파일로 저장되었습니다: C:/Users/Administrator/Desktop/dayeong/동대문구_행정동별_인구수.csv\n"
     ]
    },
    {
     "name": "stderr",
     "output_type": "stream",
     "text": [
      "C:\\Users\\Administrator\\AppData\\Local\\Temp\\ipykernel_2840\\2707620161.py:19: SettingWithCopyWarning: \n",
      "A value is trying to be set on a copy of a slice from a DataFrame.\n",
      "Try using .loc[row_indexer,col_indexer] = value instead\n",
      "\n",
      "See the caveats in the documentation: https://pandas.pydata.org/pandas-docs/stable/user_guide/indexing.html#returning-a-view-versus-a-copy\n",
      "  df_selected['계'] = df_selected['계'].str.replace(',', '').astype(int)\n"
     ]
    }
   ],
   "source": [
    "import pandas as pd\n",
    "\n",
    "# pandas 가 엑셀파일 읽기 위해서는 pip install openpyxl 설치 필요\n",
    "\n",
    "# 엑셀 파일 경로\n",
    "excel_file_path = 'C:/Users/Administrator/Desktop/dayeong/동대문구_행정동별_인구수.xlsx'\n",
    "csv_file_path = 'C:/Users/Administrator/Desktop/dayeong/동대문구_행정동별_인구수.csv'\n",
    "\n",
    "# 엑셀 파일 읽기\n",
    "df = pd.read_excel(excel_file_path)\n",
    "\n",
    "# 컬럼 이름 출력하여 확인\n",
    "print(df.columns)\n",
    "\n",
    "# 필요한 컬럼만 추출 (컬럼 이름을 실제 엑셀 파일의 이름으로 교체)\n",
    "df_selected = df[['동대문구', '계']]\n",
    "\n",
    "# '인구수-계' 컬럼의 숫자에 포함된 쉼표 제거 및 숫자로 변환\n",
    "df_selected['계'] = df_selected['계'].str.replace(',', '').astype(int)\n",
    "\n",
    "# CSV 파일로 저장\n",
    "df_selected.to_csv(csv_file_path, index=False, encoding='utf-8-sig')\n",
    "\n",
    "print(f\"CSV 파일로 저장되었습니다: {csv_file_path}\")"
   ]
  },
  {
   "cell_type": "code",
   "execution_count": 11,
   "metadata": {},
   "outputs": [
    {
     "name": "stdout",
     "output_type": "stream",
     "text": [
      "     동대문구      계\n",
      "0     용신동  38609\n",
      "1     제기동  22961\n",
      "2    전농1동  32941\n",
      "3    전농2동  17832\n",
      "4   답십리1동  27793\n",
      "5   답십리2동  27394\n",
      "6    장안1동  37441\n",
      "7    장안2동  32647\n",
      "8    청량리동  18714\n",
      "9     회기동  10406\n",
      "10   휘경1동  13789\n",
      "11   휘경2동  24339\n",
      "12   이문1동  17855\n",
      "13   이문2동  19260\n"
     ]
    }
   ],
   "source": [
    "# 동네 이름의 숫자 앞에 '제'라는 글자 없애버리기\n",
    "\n",
    "import pandas as pd\n",
    "\n",
    "# 데이터 불러오기\n",
    "data = pd.read_csv('C:/Users/Administrator/Desktop/dayeong/동대문구_행정동별_인구수.csv')\n",
    "\n",
    "# '동대문구' 컬럼 처리\n",
    "data['동대문구'] = data['동대문구'].apply(lambda x: x.replace('제', '') if any(char.isdigit() for char in x) else x)\n",
    "\n",
    "# 결과 출력\n",
    "print(data)"
   ]
  },
  {
   "cell_type": "code",
   "execution_count": 17,
   "metadata": {},
   "outputs": [
    {
     "data": {
      "text/html": [
       "<div>\n",
       "<style scoped>\n",
       "    .dataframe tbody tr th:only-of-type {\n",
       "        vertical-align: middle;\n",
       "    }\n",
       "\n",
       "    .dataframe tbody tr th {\n",
       "        vertical-align: top;\n",
       "    }\n",
       "\n",
       "    .dataframe thead th {\n",
       "        text-align: right;\n",
       "    }\n",
       "</style>\n",
       "<table border=\"1\" class=\"dataframe\">\n",
       "  <thead>\n",
       "    <tr style=\"text-align: right;\">\n",
       "      <th></th>\n",
       "      <th>동대문구</th>\n",
       "      <th>계</th>\n",
       "    </tr>\n",
       "  </thead>\n",
       "  <tbody>\n",
       "    <tr>\n",
       "      <th>0</th>\n",
       "      <td>용신동</td>\n",
       "      <td>38609</td>\n",
       "    </tr>\n",
       "    <tr>\n",
       "      <th>1</th>\n",
       "      <td>제기동</td>\n",
       "      <td>22961</td>\n",
       "    </tr>\n",
       "    <tr>\n",
       "      <th>2</th>\n",
       "      <td>전농1동</td>\n",
       "      <td>32941</td>\n",
       "    </tr>\n",
       "    <tr>\n",
       "      <th>3</th>\n",
       "      <td>전농2동</td>\n",
       "      <td>17832</td>\n",
       "    </tr>\n",
       "    <tr>\n",
       "      <th>4</th>\n",
       "      <td>답십리1동</td>\n",
       "      <td>27793</td>\n",
       "    </tr>\n",
       "    <tr>\n",
       "      <th>5</th>\n",
       "      <td>답십리2동</td>\n",
       "      <td>27394</td>\n",
       "    </tr>\n",
       "    <tr>\n",
       "      <th>6</th>\n",
       "      <td>장안1동</td>\n",
       "      <td>37441</td>\n",
       "    </tr>\n",
       "    <tr>\n",
       "      <th>7</th>\n",
       "      <td>장안2동</td>\n",
       "      <td>32647</td>\n",
       "    </tr>\n",
       "    <tr>\n",
       "      <th>8</th>\n",
       "      <td>청량리동</td>\n",
       "      <td>18714</td>\n",
       "    </tr>\n",
       "    <tr>\n",
       "      <th>9</th>\n",
       "      <td>회기동</td>\n",
       "      <td>10406</td>\n",
       "    </tr>\n",
       "    <tr>\n",
       "      <th>10</th>\n",
       "      <td>휘경1동</td>\n",
       "      <td>13789</td>\n",
       "    </tr>\n",
       "    <tr>\n",
       "      <th>11</th>\n",
       "      <td>휘경2동</td>\n",
       "      <td>24339</td>\n",
       "    </tr>\n",
       "    <tr>\n",
       "      <th>12</th>\n",
       "      <td>이문1동</td>\n",
       "      <td>17855</td>\n",
       "    </tr>\n",
       "    <tr>\n",
       "      <th>13</th>\n",
       "      <td>이문2동</td>\n",
       "      <td>19260</td>\n",
       "    </tr>\n",
       "  </tbody>\n",
       "</table>\n",
       "</div>"
      ],
      "text/plain": [
       "     동대문구      계\n",
       "0     용신동  38609\n",
       "1     제기동  22961\n",
       "2    전농1동  32941\n",
       "3    전농2동  17832\n",
       "4   답십리1동  27793\n",
       "5   답십리2동  27394\n",
       "6    장안1동  37441\n",
       "7    장안2동  32647\n",
       "8    청량리동  18714\n",
       "9     회기동  10406\n",
       "10   휘경1동  13789\n",
       "11   휘경2동  24339\n",
       "12   이문1동  17855\n",
       "13   이문2동  19260"
      ]
     },
     "execution_count": 17,
     "metadata": {},
     "output_type": "execute_result"
    }
   ],
   "source": [
    "data.to_csv('C:/Users/Administrator/Desktop/dayeong/동대문구_행정동별_인구수.csv', index=False, encoding='utf-8-sig')\n",
    "\n",
    "data"
   ]
  },
  {
   "cell_type": "markdown",
   "metadata": {},
   "source": [
    "## 상관관계 알아내고싶은 데이터셋 선언"
   ]
  },
  {
   "cell_type": "code",
   "execution_count": null,
   "metadata": {},
   "outputs": [],
   "source": [
    "import pandas as pd\n",
    "\n",
    "# 행정동별 인구수 데이터 불러오기\n",
    "population_data = pd.read_csv('C:/Users/Administrator/Desktop/dayeong/동대문구_행정동별_인구수.csv')\n",
    "\n",
    "# 불법주정차 신고현황 데이터 불러오기\n",
    "parking_data = pd.read_csv('C:/Users/Administrator/Desktop/dayeong/불법주정차_신고현황_동대문구_filtered.csv')"
   ]
  },
  {
   "cell_type": "markdown",
   "metadata": {},
   "source": [
    "## 상관계수"
   ]
  },
  {
   "cell_type": "code",
   "execution_count": 13,
   "metadata": {},
   "outputs": [
    {
     "name": "stdout",
     "output_type": "stream",
     "text": [
      "행정동별 인구수와 불법주정차 신고건수 간의 상관관계: 0.6500553985372012\n"
     ]
    }
   ],
   "source": [
    "# '도로명주소' 컬럼에서 동네 정보 추출\n",
    "parking_data['동네'] = parking_data['도로명주소'].apply(lambda x: x.split()[-3] if len(x.split()) > 2 else None)\n",
    "\n",
    "# 행정동별 불법주정차 신고 건수 계산\n",
    "parking_counts = parking_data.groupby('동네').size().reset_index(name='불법주정차_신고건수')\n",
    "\n",
    "# 행정동별 인구수와 불법주정차 신고 건수 데이터 병합\n",
    "merged_data = pd.merge(population_data, parking_counts, left_on='동대문구', right_on='동네', how='inner')\n",
    "\n",
    "# 상관관계 계산\n",
    "correlation = merged_data['계'].corr(merged_data['불법주정차_신고건수'])\n",
    "\n",
    "print(\"행정동별 인구수와 불법주정차 신고건수 간의 상관관계:\", correlation)"
   ]
  },
  {
   "cell_type": "markdown",
   "metadata": {},
   "source": [
    "## 시각화"
   ]
  },
  {
   "cell_type": "code",
   "execution_count": 15,
   "metadata": {},
   "outputs": [
    {
     "data": {
      "image/png": "[encoded data removed]",
      "text/plain": [
       "<Figure size 1000x600 with 1 Axes>"
      ]
     },
     "metadata": {},
     "output_type": "display_data"
    }
   ],
   "source": [
    "import matplotlib.pyplot as plt\n",
    "import seaborn as sns\n",
    "from matplotlib import font_manager, rc\n",
    "\n",
    "# 한글 폰트 설정\n",
    "font_path = \"C:/Windows/Fonts/malgun.ttf\"  # 사용하고 있는 OS에 맞는 한글 폰트 경로 설정\n",
    "font_name = font_manager.FontProperties(fname=font_path).get_name()\n",
    "rc('font', family=font_name)\n",
    "\n",
    "\n",
    "# '도로명주소' 컬럼에서 동네 정보 추출\n",
    "parking_data['동네'] = parking_data['도로명주소'].apply(lambda x: x.split()[-3] if len(x.split()) > 2 else None)\n",
    "\n",
    "# 행정동별 불법주정차 신고 건수 계산\n",
    "parking_counts = parking_data.groupby('동네').size().reset_index(name='불법주정차_신고건수')\n",
    "\n",
    "# 행정동별 인구수와 불법주정차 신고 건수 데이터 병합\n",
    "merged_data = pd.merge(population_data, parking_counts, left_on='동대문구', right_on='동네', how='inner')\n",
    "\n",
    "# 시각화\n",
    "plt.figure(figsize=(10, 6))\n",
    "sns.scatterplot(data=merged_data, x='계', y='불법주정차_신고건수')\n",
    "plt.title('행정동별 인구수와 불법주정차 신고건수의 관계')\n",
    "plt.xlabel('행정동별 인구수')\n",
    "plt.ylabel('불법주정차 신고건수')\n",
    "plt.grid(True)\n",
    "plt.show()"
   ]
  },
  {
   "cell_type": "markdown",
   "metadata": {},
   "source": [
    "## 산점도"
   ]
  },
  {
   "cell_type": "code",
   "execution_count": 21,
   "metadata": {},
   "outputs": [
    {
     "data": {
      "image/png": "[encoded data removed]",
      "text/plain": [
       "<Figure size 500x500 with 6 Axes>"
      ]
     },
     "metadata": {},
     "output_type": "display_data"
    }
   ],
   "source": [
    "# '도로명주소' 컬럼에서 동네 정보 추출\n",
    "parking_data['동네'] = parking_data['도로명주소'].apply(lambda x: x.split()[-3] if len(x.split()) > 2 else None)\n",
    "\n",
    "# 행정동별 불법주정차 신고 건수 계산\n",
    "parking_counts = parking_data.groupby('동네').size().reset_index(name='불법주정차_신고건수')\n",
    "\n",
    "# 행정동별 인구수와 불법주정차 신고 건수 데이터 병합\n",
    "merged_data = pd.merge(population_data, parking_counts, left_on='동대문구', right_on='동네', how='inner')\n",
    "\n",
    "# 산점도 그리기\n",
    "sns.pairplot(merged_data, vars=['계', '불법주정차_신고건수'])\n",
    "plt.suptitle('행정동별 인구수와 불법주정차 신고건수의 산점도', y=1.02)\n",
    "plt.show()"
   ]
  },
  {
   "cell_type": "markdown",
   "metadata": {},
   "source": [
    "## 선형회귀분석"
   ]
  },
  {
   "cell_type": "code",
   "execution_count": 22,
   "metadata": {},
   "outputs": [
    {
     "name": "stdout",
     "output_type": "stream",
     "text": [
      "                            OLS Regression Results                            \n",
      "==============================================================================\n",
      "Dep. Variable:             불법주정차_신고건수   R-squared:                       0.423\n",
      "Model:                            OLS   Adj. R-squared:                  0.374\n",
      "Method:                 Least Squares   F-statistic:                     8.782\n",
      "Date:                Sun, 02 Jun 2024   Prob (F-statistic):             0.0118\n",
      "Time:                        21:01:04   Log-Likelihood:                -53.747\n",
      "No. Observations:                  14   AIC:                             111.5\n",
      "Df Residuals:                      12   BIC:                             112.8\n",
      "Df Model:                           1                                         \n",
      "Covariance Type:            nonrobust                                         \n",
      "==============================================================================\n",
      "                 coef    std err          t      P>|t|      [0.025      0.975]\n",
      "------------------------------------------------------------------------------\n",
      "const         -6.6122      9.981     -0.662      0.520     -28.359      15.135\n",
      "계              0.0011      0.000      2.963      0.012       0.000       0.002\n",
      "==============================================================================\n",
      "Omnibus:                        0.855   Durbin-Watson:                   1.489\n",
      "Prob(Omnibus):                  0.652   Jarque-Bera (JB):                0.655\n",
      "Skew:                           0.046   Prob(JB):                        0.721\n",
      "Kurtosis:                       1.944   Cond. No.                     7.94e+04\n",
      "==============================================================================\n",
      "\n",
      "Notes:\n",
      "[1] Standard Errors assume that the covariance matrix of the errors is correctly specified.\n",
      "[2] The condition number is large, 7.94e+04. This might indicate that there are\n",
      "strong multicollinearity or other numerical problems.\n"
     ]
    },
    {
     "name": "stderr",
     "output_type": "stream",
     "text": [
      "c:\\Users\\Administrator\\AppData\\Local\\Programs\\Python\\Python312\\Lib\\site-packages\\scipy\\stats\\_axis_nan_policy.py:531: UserWarning: kurtosistest only valid for n>=20 ... continuing anyway, n=14\n",
      "  res = hypotest_fun_out(*samples, **kwds)\n",
      "c:\\Users\\Administrator\\AppData\\Local\\Programs\\Python\\Python312\\Lib\\site-packages\\scipy\\stats\\_axis_nan_policy.py:531: UserWarning: kurtosistest only valid for n>=20 ... continuing anyway, n=14\n",
      "  res = hypotest_fun_out(*samples, **kwds)\n"
     ]
    },
    {
     "data": {
      "text/html": [
       "<table class=\"simpletable\">\n",
       "<caption>OLS Regression Results</caption>\n",
       "<tr>\n",
       "  <th>Dep. Variable:</th>       <td>불법주정차_신고건수</td>    <th>  R-squared:         </th> <td>   0.423</td>\n",
       "</tr>\n",
       "<tr>\n",
       "  <th>Model:</th>                   <td>OLS</td>       <th>  Adj. R-squared:    </th> <td>   0.374</td>\n",
       "</tr>\n",
       "<tr>\n",
       "  <th>Method:</th>             <td>Least Squares</td>  <th>  F-statistic:       </th> <td>   8.782</td>\n",
       "</tr>\n",
       "<tr>\n",
       "  <th>Date:</th>             <td>Sun, 02 Jun 2024</td> <th>  Prob (F-statistic):</th>  <td>0.0118</td> \n",
       "</tr>\n",
       "<tr>\n",
       "  <th>Time:</th>                 <td>21:01:04</td>     <th>  Log-Likelihood:    </th> <td> -53.747</td>\n",
       "</tr>\n",
       "<tr>\n",
       "  <th>No. Observations:</th>      <td>    14</td>      <th>  AIC:               </th> <td>   111.5</td>\n",
       "</tr>\n",
       "<tr>\n",
       "  <th>Df Residuals:</th>          <td>    12</td>      <th>  BIC:               </th> <td>   112.8</td>\n",
       "</tr>\n",
       "<tr>\n",
       "  <th>Df Model:</th>              <td>     1</td>      <th>                     </th>     <td> </td>   \n",
       "</tr>\n",
       "<tr>\n",
       "  <th>Covariance Type:</th>      <td>nonrobust</td>    <th>                     </th>     <td> </td>   \n",
       "</tr>\n",
       "</table>\n",
       "<table class=\"simpletable\">\n",
       "<tr>\n",
       "    <td></td>       <th>coef</th>     <th>std err</th>      <th>t</th>      <th>P>|t|</th>  <th>[0.025</th>    <th>0.975]</th>  \n",
       "</tr>\n",
       "<tr>\n",
       "  <th>const</th> <td>   -6.6122</td> <td>    9.981</td> <td>   -0.662</td> <td> 0.520</td> <td>  -28.359</td> <td>   15.135</td>\n",
       "</tr>\n",
       "<tr>\n",
       "  <th>계</th>     <td>    0.0011</td> <td>    0.000</td> <td>    2.963</td> <td> 0.012</td> <td>    0.000</td> <td>    0.002</td>\n",
       "</tr>\n",
       "</table>\n",
       "<table class=\"simpletable\">\n",
       "<tr>\n",
       "  <th>Omnibus:</th>       <td> 0.855</td> <th>  Durbin-Watson:     </th> <td>   1.489</td>\n",
       "</tr>\n",
       "<tr>\n",
       "  <th>Prob(Omnibus):</th> <td> 0.652</td> <th>  Jarque-Bera (JB):  </th> <td>   0.655</td>\n",
       "</tr>\n",
       "<tr>\n",
       "  <th>Skew:</th>          <td> 0.046</td> <th>  Prob(JB):          </th> <td>   0.721</td>\n",
       "</tr>\n",
       "<tr>\n",
       "  <th>Kurtosis:</th>      <td> 1.944</td> <th>  Cond. No.          </th> <td>7.94e+04</td>\n",
       "</tr>\n",
       "</table><br/><br/>Notes:<br/>[1] Standard Errors assume that the covariance matrix of the errors is correctly specified.<br/>[2] The condition number is large, 7.94e+04. This might indicate that there are<br/>strong multicollinearity or other numerical problems."
      ],
      "text/latex": [
       "\\begin{center}\n",
       "\\begin{tabular}{lclc}\n",
       "\\toprule\n",
       "\\textbf{Dep. Variable:}    &   불법주정차\\_신고건수    & \\textbf{  R-squared:         } &     0.423   \\\\\n",
       "\\textbf{Model:}            &       OLS        & \\textbf{  Adj. R-squared:    } &     0.374   \\\\\n",
       "\\textbf{Method:}           &  Least Squares   & \\textbf{  F-statistic:       } &     8.782   \\\\\n",
       "\\textbf{Date:}             & Sun, 02 Jun 2024 & \\textbf{  Prob (F-statistic):} &   0.0118    \\\\\n",
       "\\textbf{Time:}             &     21:01:04     & \\textbf{  Log-Likelihood:    } &   -53.747   \\\\\n",
       "\\textbf{No. Observations:} &          14      & \\textbf{  AIC:               } &     111.5   \\\\\n",
       "\\textbf{Df Residuals:}     &          12      & \\textbf{  BIC:               } &     112.8   \\\\\n",
       "\\textbf{Df Model:}         &           1      & \\textbf{                     } &             \\\\\n",
       "\\textbf{Covariance Type:}  &    nonrobust     & \\textbf{                     } &             \\\\\n",
       "\\bottomrule\n",
       "\\end{tabular}\n",
       "\\begin{tabular}{lcccccc}\n",
       "               & \\textbf{coef} & \\textbf{std err} & \\textbf{t} & \\textbf{P$> |$t$|$} & \\textbf{[0.025} & \\textbf{0.975]}  \\\\\n",
       "\\midrule\n",
       "\\textbf{const} &      -6.6122  &        9.981     &    -0.662  &         0.520        &      -28.359    &       15.135     \\\\\n",
       "\\textbf{계}     &       0.0011  &        0.000     &     2.963  &         0.012        &        0.000    &        0.002     \\\\\n",
       "\\bottomrule\n",
       "\\end{tabular}\n",
       "\\begin{tabular}{lclc}\n",
       "\\textbf{Omnibus:}       &  0.855 & \\textbf{  Durbin-Watson:     } &    1.489  \\\\\n",
       "\\textbf{Prob(Omnibus):} &  0.652 & \\textbf{  Jarque-Bera (JB):  } &    0.655  \\\\\n",
       "\\textbf{Skew:}          &  0.046 & \\textbf{  Prob(JB):          } &    0.721  \\\\\n",
       "\\textbf{Kurtosis:}      &  1.944 & \\textbf{  Cond. No.          } & 7.94e+04  \\\\\n",
       "\\bottomrule\n",
       "\\end{tabular}\n",
       "%\\caption{OLS Regression Results}\n",
       "\\end{center}\n",
       "\n",
       "Notes: \\newline\n",
       " [1] Standard Errors assume that the covariance matrix of the errors is correctly specified. \\newline\n",
       " [2] The condition number is large, 7.94e+04. This might indicate that there are \\newline\n",
       " strong multicollinearity or other numerical problems."
      ],
      "text/plain": [
       "<class 'statsmodels.iolib.summary.Summary'>\n",
       "\"\"\"\n",
       "                            OLS Regression Results                            \n",
       "==============================================================================\n",
       "Dep. Variable:             불법주정차_신고건수   R-squared:                       0.423\n",
       "Model:                            OLS   Adj. R-squared:                  0.374\n",
       "Method:                 Least Squares   F-statistic:                     8.782\n",
       "Date:                Sun, 02 Jun 2024   Prob (F-statistic):             0.0118\n",
       "Time:                        21:01:04   Log-Likelihood:                -53.747\n",
       "No. Observations:                  14   AIC:                             111.5\n",
       "Df Residuals:                      12   BIC:                             112.8\n",
       "Df Model:                           1                                         \n",
       "Covariance Type:            nonrobust                                         \n",
       "==============================================================================\n",
       "                 coef    std err          t      P>|t|      [0.025      0.975]\n",
       "------------------------------------------------------------------------------\n",
       "const         -6.6122      9.981     -0.662      0.520     -28.359      15.135\n",
       "계              0.0011      0.000      2.963      0.012       0.000       0.002\n",
       "==============================================================================\n",
       "Omnibus:                        0.855   Durbin-Watson:                   1.489\n",
       "Prob(Omnibus):                  0.652   Jarque-Bera (JB):                0.655\n",
       "Skew:                           0.046   Prob(JB):                        0.721\n",
       "Kurtosis:                       1.944   Cond. No.                     7.94e+04\n",
       "==============================================================================\n",
       "\n",
       "Notes:\n",
       "[1] Standard Errors assume that the covariance matrix of the errors is correctly specified.\n",
       "[2] The condition number is large, 7.94e+04. This might indicate that there are\n",
       "strong multicollinearity or other numerical problems.\n",
       "\"\"\""
      ]
     },
     "execution_count": 22,
     "metadata": {},
     "output_type": "execute_result"
    }
   ],
   "source": [
    "import statsmodels.api as sm\n",
    "\n",
    "# '도로명주소' 컬럼에서 동네 정보 추출\n",
    "parking_data['동네'] = parking_data['도로명주소'].apply(lambda x: x.split()[-3] if len(x.split()) > 2 else None)\n",
    "\n",
    "# 행정동별 불법주정차 신고 건수 계산\n",
    "parking_counts = parking_data.groupby('동네').size().reset_index(name='불법주정차_신고건수')\n",
    "\n",
    "# 행정동별 인구수와 불법주정차 신고 건수 데이터 병합\n",
    "merged_data = pd.merge(population_data, parking_counts, left_on='동대문구', right_on='동네', how='inner')\n",
    "\n",
    "# 선형 회귀 모델 적합\n",
    "X = merged_data['계']  # 독립 변수: 행정동별 인구수\n",
    "y = merged_data['불법주정차_신고건수']  # 종속 변수: 불법주정차 신고건수\n",
    "X = sm.add_constant(X)  # 절편을 위한 상수항 추가\n",
    "\n",
    "model = sm.OLS(y, X)\n",
    "results = model.fit()\n",
    "\n",
    "print(results.summary())\n",
    "\n",
    "\n",
    "results.summary()"
   ]
  }
 ],
 "metadata": {
  "kernelspec": {
   "display_name": "Python 3",
   "language": "python",
   "name": "python3"
  },
  "language_info": {
   "codemirror_mode": {
    "name": "ipython",
    "version": 3
   },
   "file_extension": ".py",
   "mimetype": "text/x-python",
   "name": "python",
   "nbconvert_exporter": "python",
   "pygments_lexer": "ipython3",
   "version": "3.12.3"
  }
 },
 "nbformat": 4,
 "nbformat_minor": 2
}
